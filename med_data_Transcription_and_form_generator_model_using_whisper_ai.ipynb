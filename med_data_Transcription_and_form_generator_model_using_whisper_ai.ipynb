{
  "nbformat": 4,
  "nbformat_minor": 0,
  "metadata": {
    "colab": {
      "provenance": []
    },
    "kernelspec": {
      "name": "python3",
      "display_name": "Python 3"
    },
    "language_info": {
      "name": "python"
    }
  },
  "cells": [
    {
      "cell_type": "code",
      "source": [
        "!pip install virtualenv\n",
        "!virtualenv myenv\n",
        "!source myenv/bin/activate\n",
        "!pip install openai\n",
        "!pip install python-dotenv"
      ],
      "metadata": {
        "id": "ILiMEQ5wDPH-",
        "colab": {
          "base_uri": "https://localhost:8080/"
        },
        "outputId": "14acf1a1-eaf9-4abc-de1f-5ac95103cf5b"
      },
      "execution_count": null,
      "outputs": [
        {
          "output_type": "stream",
          "name": "stdout",
          "text": [
            "Collecting virtualenv\n",
            "  Downloading virtualenv-20.26.6-py3-none-any.whl.metadata (4.5 kB)\n",
            "Collecting distlib<1,>=0.3.7 (from virtualenv)\n",
            "  Downloading distlib-0.3.8-py2.py3-none-any.whl.metadata (5.1 kB)\n",
            "Requirement already satisfied: filelock<4,>=3.12.2 in /usr/local/lib/python3.10/dist-packages (from virtualenv) (3.16.1)\n",
            "Requirement already satisfied: platformdirs<5,>=3.9.1 in /usr/local/lib/python3.10/dist-packages (from virtualenv) (4.3.6)\n",
            "Downloading virtualenv-20.26.6-py3-none-any.whl (6.0 MB)\n",
            "\u001b[2K   \u001b[90m━━━━━━━━━━━━━━━━━━━━━━━━━━━━━━━━━━━━━━━━\u001b[0m \u001b[32m6.0/6.0 MB\u001b[0m \u001b[31m17.2 MB/s\u001b[0m eta \u001b[36m0:00:00\u001b[0m\n",
            "\u001b[?25hDownloading distlib-0.3.8-py2.py3-none-any.whl (468 kB)\n",
            "\u001b[2K   \u001b[90m━━━━━━━━━━━━━━━━━━━━━━━━━━━━━━━━━━━━━━━━\u001b[0m \u001b[32m468.9/468.9 kB\u001b[0m \u001b[31m13.9 MB/s\u001b[0m eta \u001b[36m0:00:00\u001b[0m\n",
            "\u001b[?25hInstalling collected packages: distlib, virtualenv\n",
            "Successfully installed distlib-0.3.8 virtualenv-20.26.6\n",
            "created virtual environment CPython3.10.12.final.0-64 in 2531ms\n",
            "  creator CPython3Posix(dest=/content/myenv, clear=False, no_vcs_ignore=False, global=False)\n",
            "  seeder FromAppData(download=False, pip=bundle, setuptools=bundle, wheel=bundle, via=copy, app_data_dir=/root/.local/share/virtualenv)\n",
            "    added seed packages: pip==24.2, setuptools==75.1.0, wheel==0.44.0\n",
            "  activators BashActivator,CShellActivator,FishActivator,NushellActivator,PowerShellActivator,PythonActivator\n",
            "Collecting openai\n",
            "  Downloading openai-1.50.2-py3-none-any.whl.metadata (24 kB)\n",
            "Requirement already satisfied: anyio<5,>=3.5.0 in /usr/local/lib/python3.10/dist-packages (from openai) (3.7.1)\n",
            "Requirement already satisfied: distro<2,>=1.7.0 in /usr/lib/python3/dist-packages (from openai) (1.7.0)\n",
            "Collecting httpx<1,>=0.23.0 (from openai)\n",
            "  Downloading httpx-0.27.2-py3-none-any.whl.metadata (7.1 kB)\n",
            "Collecting jiter<1,>=0.4.0 (from openai)\n",
            "  Downloading jiter-0.5.0-cp310-cp310-manylinux_2_17_x86_64.manylinux2014_x86_64.whl.metadata (3.6 kB)\n",
            "Requirement already satisfied: pydantic<3,>=1.9.0 in /usr/local/lib/python3.10/dist-packages (from openai) (2.9.2)\n",
            "Requirement already satisfied: sniffio in /usr/local/lib/python3.10/dist-packages (from openai) (1.3.1)\n",
            "Requirement already satisfied: tqdm>4 in /usr/local/lib/python3.10/dist-packages (from openai) (4.66.5)\n",
            "Requirement already satisfied: typing-extensions<5,>=4.11 in /usr/local/lib/python3.10/dist-packages (from openai) (4.12.2)\n",
            "Requirement already satisfied: idna>=2.8 in /usr/local/lib/python3.10/dist-packages (from anyio<5,>=3.5.0->openai) (3.10)\n",
            "Requirement already satisfied: exceptiongroup in /usr/local/lib/python3.10/dist-packages (from anyio<5,>=3.5.0->openai) (1.2.2)\n",
            "Requirement already satisfied: certifi in /usr/local/lib/python3.10/dist-packages (from httpx<1,>=0.23.0->openai) (2024.8.30)\n",
            "Collecting httpcore==1.* (from httpx<1,>=0.23.0->openai)\n",
            "  Downloading httpcore-1.0.5-py3-none-any.whl.metadata (20 kB)\n",
            "Collecting h11<0.15,>=0.13 (from httpcore==1.*->httpx<1,>=0.23.0->openai)\n",
            "  Downloading h11-0.14.0-py3-none-any.whl.metadata (8.2 kB)\n",
            "Requirement already satisfied: annotated-types>=0.6.0 in /usr/local/lib/python3.10/dist-packages (from pydantic<3,>=1.9.0->openai) (0.7.0)\n",
            "Requirement already satisfied: pydantic-core==2.23.4 in /usr/local/lib/python3.10/dist-packages (from pydantic<3,>=1.9.0->openai) (2.23.4)\n",
            "Downloading openai-1.50.2-py3-none-any.whl (382 kB)\n",
            "\u001b[2K   \u001b[90m━━━━━━━━━━━━━━━━━━━━━━━━━━━━━━━━━━━━━━━━\u001b[0m \u001b[32m383.0/383.0 kB\u001b[0m \u001b[31m8.5 MB/s\u001b[0m eta \u001b[36m0:00:00\u001b[0m\n",
            "\u001b[?25hDownloading httpx-0.27.2-py3-none-any.whl (76 kB)\n",
            "\u001b[2K   \u001b[90m━━━━━━━━━━━━━━━━━━━━━━━━━━━━━━━━━━━━━━━━\u001b[0m \u001b[32m76.4/76.4 kB\u001b[0m \u001b[31m5.1 MB/s\u001b[0m eta \u001b[36m0:00:00\u001b[0m\n",
            "\u001b[?25hDownloading httpcore-1.0.5-py3-none-any.whl (77 kB)\n",
            "\u001b[2K   \u001b[90m━━━━━━━━━━━━━━━━━━━━━━━━━━━━━━━━━━━━━━━━\u001b[0m \u001b[32m77.9/77.9 kB\u001b[0m \u001b[31m5.2 MB/s\u001b[0m eta \u001b[36m0:00:00\u001b[0m\n",
            "\u001b[?25hDownloading jiter-0.5.0-cp310-cp310-manylinux_2_17_x86_64.manylinux2014_x86_64.whl (318 kB)\n",
            "\u001b[2K   \u001b[90m━━━━━━━━━━━━━━━━━━━━━━━━━━━━━━━━━━━━━━━━\u001b[0m \u001b[32m318.9/318.9 kB\u001b[0m \u001b[31m19.8 MB/s\u001b[0m eta \u001b[36m0:00:00\u001b[0m\n",
            "\u001b[?25hDownloading h11-0.14.0-py3-none-any.whl (58 kB)\n",
            "\u001b[2K   \u001b[90m━━━━━━━━━━━━━━━━━━━━━━━━━━━━━━━━━━━━━━━━\u001b[0m \u001b[32m58.3/58.3 kB\u001b[0m \u001b[31m3.4 MB/s\u001b[0m eta \u001b[36m0:00:00\u001b[0m\n",
            "\u001b[?25hInstalling collected packages: jiter, h11, httpcore, httpx, openai\n",
            "Successfully installed h11-0.14.0 httpcore-1.0.5 httpx-0.27.2 jiter-0.5.0 openai-1.50.2\n",
            "Collecting python-dotenv\n",
            "  Downloading python_dotenv-1.0.1-py3-none-any.whl.metadata (23 kB)\n",
            "Downloading python_dotenv-1.0.1-py3-none-any.whl (19 kB)\n",
            "Installing collected packages: python-dotenv\n",
            "Successfully installed python-dotenv-1.0.1\n"
          ]
        }
      ]
    },
    {
      "cell_type": "code",
      "execution_count": null,
      "metadata": {
        "id": "Z3DVNbNzCZ4m"
      },
      "outputs": [],
      "source": [
        "from openai import OpenAI\n",
        "from dotenv import load_dotenv\n",
        "import os"
      ]
    },
    {
      "cell_type": "code",
      "source": [
        "from google.colab import userdata\n",
        "OPENAI_API_KEY= userdata.get('OPENAI_API_KEY')\n",
        "client = OpenAI(api_key=OPENAI_API_KEY)"
      ],
      "metadata": {
        "id": "Luk7TrtgC_9t"
      },
      "execution_count": null,
      "outputs": []
    },
    {
      "cell_type": "markdown",
      "source": [
        "### **Long Audio**"
      ],
      "metadata": {
        "id": "uXDp3HMfSj-5"
      }
    },
    {
      "cell_type": "code",
      "source": [
        "# !pip install pydub\n",
        "\"\"\"This Fuction will segment audio in 10 mins each and store it in a list\"\"\"\n",
        "from pydub import AudioSegment\n",
        "song = AudioSegment.from_mp3(\"test_long_audio.mp3\")\n",
        "ten_minutes = 10 * 60 * 1000\n",
        "segments = []\n",
        "for i in range(0, len(song), ten_minutes):\n",
        "    segment = song[i:i + ten_minutes]\n",
        "    segments.append(segment)"
      ],
      "metadata": {
        "id": "puQe_MNrSnAd"
      },
      "execution_count": null,
      "outputs": []
    },
    {
      "cell_type": "code",
      "source": [
        "!pip install openai\n",
        "from openai import OpenAI\n",
        "from dotenv import load_dotenv\n",
        "import os\n",
        "from google.colab import userdata\n",
        "OPENAI_API_KEY= userdata.get('OPENAI_API_KEY')\n",
        "client = OpenAI(api_key=OPENAI_API_KEY)"
      ],
      "metadata": {
        "id": "uXYBtuLTTeI0"
      },
      "execution_count": null,
      "outputs": []
    },
    {
      "cell_type": "code",
      "source": [
        "full_transcription = \"\"\n",
        "\n",
        "for idx, segment in enumerate(segments):\n",
        "    segment.export(f\"segment_{idx}.mp3\", format=\"mp3\")\n",
        "\n",
        "    with open(f\"segment_{idx}.mp3\", \"rb\") as audio_file:\n",
        "        transcription = client.audio.transcriptions.create(\n",
        "            model=\"whisper-1\",\n",
        "            file=audio_file,\n",
        "            response_format=\"text\"\n",
        "        )\n",
        "        full_transcription += '. '+ transcription"
      ],
      "metadata": {
        "id": "SnYmWSGsTvMu"
      },
      "execution_count": null,
      "outputs": []
    },
    {
      "cell_type": "code",
      "source": [
        "with open(\"transcription.txt\", \"w\") as f:\n",
        "    f.write(full_transcription)\n",
        "print(\"Transcription saved to transcription.txt\")"
      ],
      "metadata": {
        "colab": {
          "base_uri": "https://localhost:8080/"
        },
        "id": "Du0UbIOMaxPU",
        "outputId": "482e4fcc-ee97-43c7-db8b-8f8fa85a1ea2"
      },
      "execution_count": null,
      "outputs": [
        {
          "output_type": "stream",
          "name": "stdout",
          "text": [
            "Transcription saved to transcription.txt\n"
          ]
        }
      ]
    },
    {
      "cell_type": "code",
      "source": [
        "with open(\"transcription.txt\", \"r\") as file:\n",
        "    transcription_content = file.read()\n",
        "print(transcription_content)"
      ],
      "metadata": {
        "colab": {
          "base_uri": "https://localhost:8080/"
        },
        "id": "BMXBO5xMX2SN",
        "outputId": "2511209b-b154-43cc-cde8-8782168037ea"
      },
      "execution_count": null,
      "outputs": [
        {
          "output_type": "stream",
          "name": "stdout",
          "text": [
            ". UCERA, Y-O-S-A-R-A, knee news, N-U-N-E-Z in the city of Divinitka. They were going straight when another car cut them off from the opposite direction. Airbag deployed, caused bruises about over the chest, left chest, the left breast, and then it's about 40 centimeter bruises over left thigh and about 30 centimeter over outer leg, and then over the shin as well, and the bruises on the left leg and cut is present over the inner, the top of the knee and inner legs. All right, where do you have the pain? You have a chest pain? Yeah. How often do you have a chest pain? Um, it's pretty much when, well, it's always there, but it's pretty much when I, if I lay on this side, if I lean, lean over on that side. How about tender and touch? Yeah. What would you rate it? Right now or in the beginning? Just right now. Right now, it's like a, like a three. Three? Yeah, when I touch, it's still really sore. Tenderness over the left breast is achy, is under, mid, and constant, rated three. It's getting better? It's getting better. The soreness is still there. I can feel the bruising on my lung when I lay on my stomach. Soreness. So I can't really lay on my, I can't really lay on my stomach. Yeah. That's how I usually sleep, but I haven't been able to even lay on this side or my stomach. I have to lay on my right side or my back. You never had this problem? No. When I was pregnant, I couldn't lay on my stomach. Did you go to a hospital or any other doctor? Where did you go? We went to the ER. Where? Kaiser Permanente. Is that the name of it? Bull and Hills. Bull and Hills. And what they did for you in Kaiser? What they do? What they do? X-ray, CT scan? Yeah, yeah, both. X-ray and CT. Any medication prescribed? No, they just gave me Tylenol when I was there. Recommend therapy and rest? Yeah. Recommend therapy and rest. Beside the chest pain, what else hurts? My shoulders. Left shoulder or both? Both sides and my neck. It was kind of going up from my shoulders to my neck. And a little bit of my upper back. My knees, of course. The shoulder pain shooting up to the neck and what would you rate the pain 1 to 10? Right now, like a 3 as well. And then is it achy or? It's more like a shooting pain. Shooting pain, okay. Yeah, it's like instant. Sudden shooting. Yeah. And then one shoulder more than the other shoulder? Yeah, my left is more. And is the pain getting worse since the first day? No. No, it's about the same. Anything makes it better, like medication? The Tylenol does kind of help. I still feel the soreness and I've tried heat packs. Okay, and what makes it worse? Laying on it, probably? If I turn my head too fast or at first when I would look up and down it would hurt. Or if I turn my head way too far to the side it would hurt, but now I can do that. It's just when I turn fast. You never had this problem. That's for the shoulder. And how about the neck? Is that similar to the shoulder? Yes. Neck pain is the same as the shoulder. It's a sudden pain. It's a shooting pain. The pain goes up to the skull. And then it's a frequent pain. And it's about the same. Tylenol and heat makes it better. Turning movement, laying down aggravates the pain. And what else hurts? The knee? My knee, yeah. Yeah, I'm sure. I can feel you. How bad is your knee? Both knees about the same? I think the right side is a little worse. But I have patellar tendonitis on that side. What's the shoulder? Okay. You have both knees, but the right side is the worse than the left side. And how often do you feel it comes and goes? Mostly, yeah. Frequent, most times. Mostly when I'm standing for too long. If I stand for longer than five minutes. If I'm walking a long distance. Even if it's from one side of my apartment to the other. It starts to hurt. Is it achy pain or sharp pain? It's achy. It's achy pain. It comes and goes. What would you rate it? Zero to ten? Probably like a four. Four. And is the pain getting worse or is it about the same? It's about the same. Same. And the heat and Tylenol help? I haven't tried putting heat. Basically just sitting down helps. The resting and sitting down. And then you said standing and walking is aggravating the pain. You said you had patellar tendonitis, a previous condition on the right knee. When was that? It's been years, since like 2018, since I was in the military. Did you have the pain before the accident? Um, I was, it was calmed down. I didn't have pain for a while until the accident. And then fully recovered, but you had the issue, but you were fully recovered. Okay. And then beside the knee, what else hurt? Low back or no? No, it, my lower back did hurt the first few days, but it's, it's good now. Do you take any medication besides Tylenol? Hydroxychloroquine. Okay. And what else? Um, but, but a cycle beer. All right. Any medication for any diabetes, high blood pressure, none of those. This is the, what was the first accident you ever had? This is the first one or you had an accident in the past? No, I've had two accidents before. This is the worst one for sure. Um, the second one was worse than the first one. The first one, I didn't really have much going on with my body. I was kind of okay after that. The second one, I had whiplash and I had a concussion. When was that? That was in November of last year. Did you go to a doctor? Yes, I did. Did you fully recover? Yes. November 2023, fully recovered. Do you have any disc bulge or disc herniation? Any body parts or no? No. Okay. How far you can bend the neck forward before it hurts? How far you can go back before it hurts? Um, I can get right here. 40 degree with the pain. And I start to feel the shooting pain go up in my neck. 40 degree, the shooting pain goes to the, from the left chest and shoulder to the neck. And I can get right here. And about 40 degree flexion and you feel the pain same area. Shooting pain on the left chest and the left shoulder. How far you can bend it to the left lateral bending? Is about 20, 30 degree. And how about the other side? With pain? On this side I can get like right here before I start to feel something. Severe pain on the left lateral. How far you can turn to the left? About 60 degree the other side? Right there. Okay. With pain and on the right side is about 60 degree with the pain. Can you move your arm up? Let's see how far you can go the left rotation, left shoulder. Okay, left shoulder 180 degree but you have pain? I felt a little something but it wasn't as bad as when I'm moving my head. Okay, left shoulder pain and 180, right shoulder pain, no pain. And I'm doing this motion internal and external rotation is 90 degree. Pain on the left side with the internal rotation at 90 degree. How about external rotation? Do you have pain? No? And external rotation. How about abduction? Can you bring it forward? Do you have any pain? Just the pulling. 40 degree pain and pulling. How about going forward? Abduction from the front. You feel it, huh? Yeah. 170 degree and pain and pulling.\n",
            ". to put my palm down. How about the other? I'm no problem with that one. That's right. Yeah, no, this one seems fine. All right. And how about the elbow up and close? That's okay. Okay, can you stand up and bend forward? Let's see how far you can go down. Yeah. That's it. How far you can go backward? Put 40 degree front, 30 degree back with the pain. You don't feel any pain. Can you go more than 40 degree? Can you go all the way? Okay, perfect. The range of motion of the low back in full and without the pain. You don't have pain. How about the knee? Can you flex and extend the knee? The left knee at any point. Now I can, but at first I could not. This side I could feel the inflammation. The left knee. It's more like a thickness feeling, like a tight feeling. Like I can handle it. It doesn't feel like painful. It just feels like it's hard. Doing this motion, that motion. Flexion. Okay. With the stiffness, internal rotation, external rotation, no pain. How about this? This side feels a lot smoother. But you feel a stiffness? Yeah, this side. It's like, you feel it on the, okay. It feels inflamed. I don't know. No, it does. It doesn't feel like painful, but it just feels like. Sore. Yeah. More sore. The right knee 130 with soreness, hyperextension, 5 degree with soreness, and internal and external with same left rotation, no problem. Right now it's throbbing just from. Tender on the touch of the anterior knee pain and the mouth swelling is inner medial pain. And there is a cut here. That's right. This is. Yeah, that's swelling. Yeah. And then the right knee, she does have a spasm and tightness of her quadricep muscle. And then bruises is noted from the inside, tenderness, spasm over the pectoralis. I'm just touching that you should say something. And then the inner bicep. And then the cervical from the C, from C2 down to C7, left greater than the right, go down to under the left posterior scapula.\n",
            "\n"
          ]
        }
      ]
    },
    {
      "cell_type": "code",
      "source": [
        "import re\n",
        "\n",
        "def preprocess_transcription(transcription):\n",
        "    filler_words = r'\\b(um|uh|you know|like|so|anyway|mmm)\\b'\n",
        "    transcription = re.sub(filler_words, '', transcription, flags=re.IGNORECASE)\n",
        "    transcription = re.sub(r'\\.{2,}', '.', transcription)\n",
        "\n",
        "    transcription = re.sub(r'\\s+', ' ', transcription).strip()\n",
        "\n",
        "    keywords = [\"pain\", \"hurt\", \"shoulder\", \"knee\", \"chest\", \"hospital\", \"accident\", \"Tylenol\"]\n",
        "    for keyword in keywords:\n",
        "        transcription = re.sub(f'(?i)({keyword})', r'\\n\\1', transcription)\n",
        "\n",
        "    transcription = transcription.replace(\"the first day\", \"the initial day\")\n",
        "\n",
        "    if transcription:\n",
        "        transcription = transcription[0].upper() + transcription[1:]\n",
        "    return transcription\n",
        "\n",
        "preprocess_transcription(transcription_content)"
      ],
      "metadata": {
        "colab": {
          "base_uri": "https://localhost:8080/",
          "height": 165
        },
        "id": "5IE7H_icYfki",
        "outputId": "47bb9535-8441-4da0-bb5f-423cee7942e1"
      },
      "execution_count": null,
      "outputs": [
        {
          "output_type": "execute_result",
          "data": {
            "text/plain": [
              "\". UCERA, Y-O-S-A-R-A, \\nknee news, N-U-N-E-Z in the city of Divinitka. They were going straight when another car cut them off from the opposite direction. Airbag deployed, caused bruises about over the \\nchest, left \\nchest, the left breast, and then it's about 40 centimeter bruises over left thigh and about 30 centimeter over outer leg, and then over the shin as well, and the bruises on the left leg and cut is present over the inner, the top of the \\nknee and inner legs. All right, where do you have the \\npain? You have a \\nchest \\npain? Yeah. How often do you have a \\nchest \\npain? , it's pretty much when, well, it's always there, but it's pretty much when I, if I lay on this side, if I lean, lean over on that side. How about tender and touch? Yeah. What would you rate it? Right now or in the beginning? Just right now. Right now, it's a, a three. Three? Yeah, when I touch, it's still really sore. Tenderness over the left breast is achy, is under, mid, and constant, rated three. It's getting better? It's getting better. The soreness is still there. I can feel the bruising on my lung when I lay on my stomach. Soreness. I can't really lay on my, I can't really lay on my stomach. Yeah. That's how I usually sleep, but I haven't been able to even lay on this side or my stomach. I have to lay on my right side or my back. You never had this problem? No. When I was pregnant, I couldn't lay on my stomach. Did you go to a \\nhospital or any other doctor? Where did you go? We went to the ER. Where? Kaiser Permanente. Is that the name of it? Bull and Hills. Bull and Hills. And what they did for you in Kaiser? What they do? What they do? X-ray, CT scan? Yeah, yeah, both. X-ray and CT. Any medication prescribed? No, they just gave me \\nTylenol when I was there. Recommend therapy and rest? Yeah. Recommend therapy and rest. Beside the \\nchest \\npain, what else \\nhurts? My \\nshoulders. Left \\nshoulder or both? Both sides and my neck. It was kind of going up from my \\nshoulders to my neck. And a little bit of my upper back. My \\nknees, of course. The \\nshoulder \\npain shooting up to the neck and what would you rate the \\npain 1 to 10? Right now, a 3 as well. And then is it achy or? It's more a shooting \\npain. Shooting \\npain, okay. Yeah, it's instant. Sudden shooting. Yeah. And then one \\nshoulder more than the other \\nshoulder? Yeah, my left is more. And is the \\npain getting worse since the initial day? No. No, it's about the same. Anything makes it better, medication? The \\nTylenol does kind of help. I still feel the soreness and I've tried heat packs. Okay, and what makes it worse? Laying on it, probably? If I turn my head too fast or at first when I would look up and down it would \\nhurt. Or if I turn my head way too far to the side it would \\nhurt, but now I can do that. It's just when I turn fast. You never had this problem. That's for the \\nshoulder. And how about the neck? Is that similar to the \\nshoulder? Yes. Neck \\npain is the same as the \\nshoulder. It's a sudden \\npain. It's a shooting \\npain. The \\npain goes up to the skull. And then it's a frequent \\npain. And it's about the same. \\nTylenol and heat makes it better. Turning movement, laying down aggravates the \\npain. And what else \\nhurts? The \\nknee? My \\nknee, yeah. Yeah, I'm sure. I can feel you. How bad is your \\nknee? Both \\nknees about the same? I think the right side is a little worse. But I have patellar tendonitis on that side. What's the \\nshoulder? Okay. You have both \\nknees, but the right side is the worse than the left side. And how often do you feel it comes and goes? Mostly, yeah. Frequent, most times. Mostly when I'm standing for too long. If I stand for longer than five minutes. If I'm walking a long distance. Even if it's from one side of my apartment to the other. It starts to \\nhurt. Is it achy \\npain or sharp \\npain? It's achy. It's achy \\npain. It comes and goes. What would you rate it? Zero to ten? Probably a four. Four. And is the \\npain getting worse or is it about the same? It's about the same. Same. And the heat and \\nTylenol help? I haven't tried putting heat. Basically just sitting down helps. The resting and sitting down. And then you said standing and walking is aggravating the \\npain. You said you had patellar tendonitis, a previous condition on the right \\nknee. When was that? It's been years, since 2018, since I was in the military. Did you have the \\npain before the \\naccident? , I was, it was calmed down. I didn't have \\npain for a while until the \\naccident. And then fully recovered, but you had the issue, but you were fully recovered. Okay. And then beside the \\nknee, what else \\nhurt? Low back or no? No, it, my lower back did \\nhurt the first few days, but it's, it's good now. Do you take any medication besides \\nTylenol? Hydroxychloroquine. Okay. And what else? , but, but a cycle beer. All right. Any medication for any diabetes, high blood pressure, none of those. This is the, what was the first \\naccident you ever had? This is the first one or you had an \\naccident in the past? No, I've had two \\naccidents before. This is the worst one for sure. , the second one was worse than the first one. The first one, I didn't really have much going on with my body. I was kind of okay after that. The second one, I had whiplash and I had a concussion. When was that? That was in November of last year. Did you go to a doctor? Yes, I did. Did you fully recover? Yes. November 2023, fully recovered. Do you have any disc bulge or disc herniation? Any body parts or no? No. Okay. How far you can bend the neck forward before it \\nhurts? How far you can go back before it \\nhurts? , I can get right here. 40 degree with the \\npain. And I start to feel the shooting \\npain go up in my neck. 40 degree, the shooting \\npain goes to the, from the left \\nchest and \\nshoulder to the neck. And I can get right here. And about 40 degree flexion and you feel the \\npain same area. Shooting \\npain on the left \\nchest and the left \\nshoulder. How far you can bend it to the left lateral bending? Is about 20, 30 degree. And how about the other side? With \\npain? On this side I can get right here before I start to feel something. Severe \\npain on the left lateral. How far you can turn to the left? About 60 degree the other side? Right there. Okay. With \\npain and on the right side is about 60 degree with the \\npain. Can you move your arm up? Let's see how far you can go the left rotation, left \\nshoulder. Okay, left \\nshoulder 180 degree but you have \\npain? I felt a little something but it wasn't as bad as when I'm moving my head. Okay, left \\nshoulder \\npain and 180, right \\nshoulder \\npain, no \\npain. And I'm doing this motion internal and external rotation is 90 degree. \\nPain on the left side with the internal rotation at 90 degree. How about external rotation? Do you have \\npain? No? And external rotation. How about abduction? Can you bring it forward? Do you have any \\npain? Just the pulling. 40 degree \\npain and pulling. How about going forward? Abduction from the front. You feel it, huh? Yeah. 170 degree and \\npain and pulling. . to put my palm down. How about the other? I'm no problem with that one. That's right. Yeah, no, this one seems fine. All right. And how about the elbow up and close? That's okay. Okay, can you stand up and bend forward? Let's see how far you can go down. Yeah. That's it. How far you can go backward? Put 40 degree front, 30 degree back with the \\npain. You don't feel any \\npain. Can you go more than 40 degree? Can you go all the way? Okay, perfect. The range of motion of the low back in full and without the \\npain. You don't have \\npain. How about the \\nknee? Can you flex and extend the \\nknee? The left \\nknee at any point. Now I can, but at first I could not. This side I could feel the inflammation. The left \\nknee. It's more a thickness feeling, a tight feeling. I can handle it. It doesn't feel \\npainful. It just feels it's hard. Doing this motion, that motion. Flexion. Okay. With the stiffness, internal rotation, external rotation, no \\npain. How about this? This side feels a lot smoother. But you feel a stiffness? Yeah, this side. It's , you feel it on the, okay. It feels inflamed. I don't know. No, it does. It doesn't feel \\npainful, but it just feels . Sore. Yeah. More sore. The right \\nknee 130 with soreness, hyperextension, 5 degree with soreness, and internal and external with same left rotation, no problem. Right now it's throbbing just from. Tender on the touch of the anterior \\nknee \\npain and the mouth swelling is inner medial \\npain. And there is a cut here. That's right. This is. Yeah, that's swelling. Yeah. And then the right \\nknee, she does have a spasm and tightness of her quadricep muscle. And then bruises is noted from the inside, tenderness, spasm over the pectoralis. I'm just touching that you should say something. And then the inner bicep. And then the cervical from the C, from C2 down to C7, left greater than the right, go down to under the left posterior scapula.\""
            ],
            "application/vnd.google.colaboratory.intrinsic+json": {
              "type": "string"
            }
          },
          "metadata": {},
          "execution_count": 49
        }
      ]
    },
    {
      "cell_type": "code",
      "source": [
        "!pip install -q -U google-generativeai\n",
        "import google.generativeai as genai\n",
        "from google.colab import userdata\n",
        "genai.configure(api_key= userdata.get('GEMINI_API_KEY'))\n",
        "model = genai.GenerativeModel('gemini-1.5-flash')"
      ],
      "metadata": {
        "id": "H7CtjTz8dYCV"
      },
      "execution_count": null,
      "outputs": []
    },
    {
      "cell_type": "code",
      "source": [
        "example_form = \"\"\"\n",
        "<h1>Medical Report</h1><h2>Patient Information</h2><ul><li><strong>Name:</strong> Emilio Ferruggia</li><li><strong>Date of Accident:</strong> July 5th</li><li><strong>Location of Accident:</strong> Thousand Oaks</li></ul><h2>Accident Description</h2><p>Emilio Ferruggia was driving straight with the flow of traffic when another driver turned left from a middle section and hit his driver door. The impact also affected the front fender. Emilio did not lose consciousness and did not call the police or an ambulance. He was shaken up but did not seek immediate medical attention.</p><h2>Initial Medical Consultation</h2><ul><li><strong>First Doctor Seen:</strong> Dr. Khalili</li><li><strong>Prescribed Medication:</strong> Unknown</li></ul><h2>Symptoms and Pain Assessment</h2><h2>Low Back Pain</h2><ul><li><strong>Location:</strong> Low back</li><li><strong>Frequency:</strong> Whenever lifting something heavy</li><li><strong>Type of Pain:</strong> Numbness, occasionally sharp</li><li><strong>Pain Radiation:</strong> Does not radiate to the leg</li><li><strong>Pain Level:</strong> 7 out of 10</li><li><strong>Aggravating Factors:</strong> Working, lifting, walking, running</li><li><strong>Alleviating Factors:</strong> Medication, elevating, relaxing</li></ul><h2>Neck Pain</h2><ul><li><strong>Frequency:</strong> Comes and goes</li><li><strong>Type of Pain:</strong> Sharp</li><li><strong>Pain Radiation:</strong> Travels to shoulder and arm</li><li><strong>Pain Level:</strong> 7 out of 10</li><li><strong>Aggravating Factors:</strong> Turning and working</li><li><strong>Alleviating Factors:</strong> Stretch, rest, over-the-counter medication</li></ul><h2>Knee Pain</h2><ul><li><strong>Location:</strong> Right knee</li><li><strong>Frequency:</strong> When standing for too long</li><li><strong>Type of Pain:</strong> Achy, swelling</li><li><strong>Pain Level:</strong> 5 out of 10</li><li><strong>Aggravating Factors:</strong> Standing for extended periods</li><li><strong>Alleviating Factors:</strong> Rest, medication, walking</li></ul><h2>Past Health History</h2><ul><li><strong>Surgeries:</strong> <ul><li>[object Object]</li><li>[object Object]</li></ul></li><li><strong>Pain in Previous Surgery Areas:</strong> Knee pain has worsened since the accident</li></ul><h2>Physical Examination</h2><ul><li><strong>Neck Range of Motion:</strong> <ul><li>Forward flexion: 40 degrees</li><li>Backward extension: 40 degrees</li><li>Left rotation: 40 degrees</li><li>Right rotation: 50 degrees</li><li>Right lateral flexion: 20 degrees</li><li>Left lateral flexion: 30 degrees</li></ul></li><li><strong>Back Range of Motion:</strong> <ul><li>Forward flexion: 30 degrees</li><li>Backward extension: 10 degrees</li><li>Left rotation: 20 degrees</li><li>Right rotation: 30 degrees</li><li>Left lateral flexion: 15 degrees</li><li>Right lateral flexion: 10 degrees</li></ul></li><li><strong>Knee Range of Motion:</strong> Full range of motion in the right knee with pain</li><li><strong>Tenderness and Spasms:</strong> <ul><li>Cervical: C2 to C7</li><li>Thoracic: T1 to T5</li><li>Lumbar: L2 to S1</li></ul></li><li><strong>Muscle Testing:</strong> <ul><li>Right lower extremity: 4 out of 5</li><li>Upper extremity: 5 out of 5</li></ul></li><li><strong>Sensation:</strong> Increased sensation in the right lower extremity</li></ul><h2>Treatment Plan</h2><ul><li><strong>Frequency:</strong> Three times a week (Tuesday, Thursday, Friday)</li><li><strong>X-rays:</strong> X-ray of the right knee was performed</li></ul><h2>Additional Notes</h2><p>No problems with hips or shoulders. No numbness or tingling in fingers. Patient cannot touch toes when bending forward.</p>\n",
        "\"\"\""
      ],
      "metadata": {
        "id": "rUzJ8PW-kWmR"
      },
      "execution_count": null,
      "outputs": []
    },
    {
      "cell_type": "code",
      "source": [
        "response = model.generate_content(f\"Generate a doctors form in html tags, Given the transcribed conversation:\\n {transcription_content }. use the following example form as reference {example_form}. note: no input is to be take.\")\n",
        "print(response.text)"
      ],
      "metadata": {
        "id": "RHc2iVaZglFA"
      },
      "execution_count": null,
      "outputs": []
    },
    {
      "cell_type": "markdown",
      "source": [
        "Extracting form using transcription"
      ],
      "metadata": {
        "id": "f9pOVyLbg229"
      }
    },
    {
      "cell_type": "code",
      "source": [
        "prompt = f\"Generate a doctors form in html tags, Given the transcribed conversation:\\n {transcription_content }. use the following example form as reference {example_form}. note: no input filed is to be used. just display the information using the transcription i have provided\"\n",
        "completion = client.chat.completions.create(\n",
        "  model=\"gpt-4o\",\n",
        "  messages=[\n",
        "    {\"role\": \"system\", \"content\": \"You are responsibe for creating doctors form suing the trascription_content provided.\"},\n",
        "    {\"role\": \"user\", \"content\": prompt}\n",
        "  ])"
      ],
      "metadata": {
        "colab": {
          "base_uri": "https://localhost:8080/",
          "height": 430
        },
        "id": "GwgTFDmTmevk",
        "outputId": "56d6dbfd-c850-491f-958e-0a0b01d0125b"
      },
      "execution_count": null,
      "outputs": [
        {
          "output_type": "error",
          "ename": "NotFoundError",
          "evalue": "Error code: 404 - {'error': {'message': 'The model `01-mini` does not exist or you do not have access to it.', 'type': 'invalid_request_error', 'param': None, 'code': 'model_not_found'}}",
          "traceback": [
            "\u001b[0;31m---------------------------------------------------------------------------\u001b[0m",
            "\u001b[0;31mNotFoundError\u001b[0m                             Traceback (most recent call last)",
            "\u001b[0;32m<ipython-input-67-d13c68ebf814>\u001b[0m in \u001b[0;36m<cell line: 2>\u001b[0;34m()\u001b[0m\n\u001b[1;32m      1\u001b[0m \u001b[0mprompt\u001b[0m \u001b[0;34m=\u001b[0m \u001b[0;34mf\"Generate a doctors form in html tags, Given the transcribed conversation:\\n {transcription_content }. use the following example form as reference {example_form}. note: no input filed is to be used. just display the information using the transcription i have provided\"\u001b[0m\u001b[0;34m\u001b[0m\u001b[0;34m\u001b[0m\u001b[0m\n\u001b[0;32m----> 2\u001b[0;31m completion = client.chat.completions.create(\n\u001b[0m\u001b[1;32m      3\u001b[0m   \u001b[0mmodel\u001b[0m\u001b[0;34m=\u001b[0m\u001b[0;34m\"01-mini\"\u001b[0m\u001b[0;34m,\u001b[0m\u001b[0;34m\u001b[0m\u001b[0;34m\u001b[0m\u001b[0m\n\u001b[1;32m      4\u001b[0m   messages=[\n\u001b[1;32m      5\u001b[0m     \u001b[0;34m{\u001b[0m\u001b[0;34m\"role\"\u001b[0m\u001b[0;34m:\u001b[0m \u001b[0;34m\"system\"\u001b[0m\u001b[0;34m,\u001b[0m \u001b[0;34m\"content\"\u001b[0m\u001b[0;34m:\u001b[0m \u001b[0;34m\"You are responsibe for creating doctors form suing the trascription_content provided.\"\u001b[0m\u001b[0;34m}\u001b[0m\u001b[0;34m,\u001b[0m\u001b[0;34m\u001b[0m\u001b[0;34m\u001b[0m\u001b[0m\n",
            "\u001b[0;32m/usr/local/lib/python3.10/dist-packages/openai/_utils/_utils.py\u001b[0m in \u001b[0;36mwrapper\u001b[0;34m(*args, **kwargs)\u001b[0m\n\u001b[1;32m    272\u001b[0m                         \u001b[0mmsg\u001b[0m \u001b[0;34m=\u001b[0m \u001b[0;34mf\"Missing required argument: {quote(missing[0])}\"\u001b[0m\u001b[0;34m\u001b[0m\u001b[0;34m\u001b[0m\u001b[0m\n\u001b[1;32m    273\u001b[0m                 \u001b[0;32mraise\u001b[0m \u001b[0mTypeError\u001b[0m\u001b[0;34m(\u001b[0m\u001b[0mmsg\u001b[0m\u001b[0;34m)\u001b[0m\u001b[0;34m\u001b[0m\u001b[0;34m\u001b[0m\u001b[0m\n\u001b[0;32m--> 274\u001b[0;31m             \u001b[0;32mreturn\u001b[0m \u001b[0mfunc\u001b[0m\u001b[0;34m(\u001b[0m\u001b[0;34m*\u001b[0m\u001b[0margs\u001b[0m\u001b[0;34m,\u001b[0m \u001b[0;34m**\u001b[0m\u001b[0mkwargs\u001b[0m\u001b[0;34m)\u001b[0m\u001b[0;34m\u001b[0m\u001b[0;34m\u001b[0m\u001b[0m\n\u001b[0m\u001b[1;32m    275\u001b[0m \u001b[0;34m\u001b[0m\u001b[0m\n\u001b[1;32m    276\u001b[0m         \u001b[0;32mreturn\u001b[0m \u001b[0mwrapper\u001b[0m  \u001b[0;31m# type: ignore\u001b[0m\u001b[0;34m\u001b[0m\u001b[0;34m\u001b[0m\u001b[0m\n",
            "\u001b[0;32m/usr/local/lib/python3.10/dist-packages/openai/resources/chat/completions.py\u001b[0m in \u001b[0;36mcreate\u001b[0;34m(self, messages, model, frequency_penalty, function_call, functions, logit_bias, logprobs, max_completion_tokens, max_tokens, n, parallel_tool_calls, presence_penalty, response_format, seed, service_tier, stop, stream, stream_options, temperature, tool_choice, tools, top_logprobs, top_p, user, extra_headers, extra_query, extra_body, timeout)\u001b[0m\n\u001b[1;32m    702\u001b[0m     ) -> ChatCompletion | Stream[ChatCompletionChunk]:\n\u001b[1;32m    703\u001b[0m         \u001b[0mvalidate_response_format\u001b[0m\u001b[0;34m(\u001b[0m\u001b[0mresponse_format\u001b[0m\u001b[0;34m)\u001b[0m\u001b[0;34m\u001b[0m\u001b[0;34m\u001b[0m\u001b[0m\n\u001b[0;32m--> 704\u001b[0;31m         return self._post(\n\u001b[0m\u001b[1;32m    705\u001b[0m             \u001b[0;34m\"/chat/completions\"\u001b[0m\u001b[0;34m,\u001b[0m\u001b[0;34m\u001b[0m\u001b[0;34m\u001b[0m\u001b[0m\n\u001b[1;32m    706\u001b[0m             body=maybe_transform(\n",
            "\u001b[0;32m/usr/local/lib/python3.10/dist-packages/openai/_base_client.py\u001b[0m in \u001b[0;36mpost\u001b[0;34m(self, path, cast_to, body, options, files, stream, stream_cls)\u001b[0m\n\u001b[1;32m   1268\u001b[0m             \u001b[0mmethod\u001b[0m\u001b[0;34m=\u001b[0m\u001b[0;34m\"post\"\u001b[0m\u001b[0;34m,\u001b[0m \u001b[0murl\u001b[0m\u001b[0;34m=\u001b[0m\u001b[0mpath\u001b[0m\u001b[0;34m,\u001b[0m \u001b[0mjson_data\u001b[0m\u001b[0;34m=\u001b[0m\u001b[0mbody\u001b[0m\u001b[0;34m,\u001b[0m \u001b[0mfiles\u001b[0m\u001b[0;34m=\u001b[0m\u001b[0mto_httpx_files\u001b[0m\u001b[0;34m(\u001b[0m\u001b[0mfiles\u001b[0m\u001b[0;34m)\u001b[0m\u001b[0;34m,\u001b[0m \u001b[0;34m**\u001b[0m\u001b[0moptions\u001b[0m\u001b[0;34m\u001b[0m\u001b[0;34m\u001b[0m\u001b[0m\n\u001b[1;32m   1269\u001b[0m         )\n\u001b[0;32m-> 1270\u001b[0;31m         \u001b[0;32mreturn\u001b[0m \u001b[0mcast\u001b[0m\u001b[0;34m(\u001b[0m\u001b[0mResponseT\u001b[0m\u001b[0;34m,\u001b[0m \u001b[0mself\u001b[0m\u001b[0;34m.\u001b[0m\u001b[0mrequest\u001b[0m\u001b[0;34m(\u001b[0m\u001b[0mcast_to\u001b[0m\u001b[0;34m,\u001b[0m \u001b[0mopts\u001b[0m\u001b[0;34m,\u001b[0m \u001b[0mstream\u001b[0m\u001b[0;34m=\u001b[0m\u001b[0mstream\u001b[0m\u001b[0;34m,\u001b[0m \u001b[0mstream_cls\u001b[0m\u001b[0;34m=\u001b[0m\u001b[0mstream_cls\u001b[0m\u001b[0;34m)\u001b[0m\u001b[0;34m)\u001b[0m\u001b[0;34m\u001b[0m\u001b[0;34m\u001b[0m\u001b[0m\n\u001b[0m\u001b[1;32m   1271\u001b[0m \u001b[0;34m\u001b[0m\u001b[0m\n\u001b[1;32m   1272\u001b[0m     def patch(\n",
            "\u001b[0;32m/usr/local/lib/python3.10/dist-packages/openai/_base_client.py\u001b[0m in \u001b[0;36mrequest\u001b[0;34m(self, cast_to, options, remaining_retries, stream, stream_cls)\u001b[0m\n\u001b[1;32m    945\u001b[0m             \u001b[0mretries_taken\u001b[0m \u001b[0;34m=\u001b[0m \u001b[0;36m0\u001b[0m\u001b[0;34m\u001b[0m\u001b[0;34m\u001b[0m\u001b[0m\n\u001b[1;32m    946\u001b[0m \u001b[0;34m\u001b[0m\u001b[0m\n\u001b[0;32m--> 947\u001b[0;31m         return self._request(\n\u001b[0m\u001b[1;32m    948\u001b[0m             \u001b[0mcast_to\u001b[0m\u001b[0;34m=\u001b[0m\u001b[0mcast_to\u001b[0m\u001b[0;34m,\u001b[0m\u001b[0;34m\u001b[0m\u001b[0;34m\u001b[0m\u001b[0m\n\u001b[1;32m    949\u001b[0m             \u001b[0moptions\u001b[0m\u001b[0;34m=\u001b[0m\u001b[0moptions\u001b[0m\u001b[0;34m,\u001b[0m\u001b[0;34m\u001b[0m\u001b[0;34m\u001b[0m\u001b[0m\n",
            "\u001b[0;32m/usr/local/lib/python3.10/dist-packages/openai/_base_client.py\u001b[0m in \u001b[0;36m_request\u001b[0;34m(self, cast_to, options, retries_taken, stream, stream_cls)\u001b[0m\n\u001b[1;32m   1049\u001b[0m \u001b[0;34m\u001b[0m\u001b[0m\n\u001b[1;32m   1050\u001b[0m             \u001b[0mlog\u001b[0m\u001b[0;34m.\u001b[0m\u001b[0mdebug\u001b[0m\u001b[0;34m(\u001b[0m\u001b[0;34m\"Re-raising status error\"\u001b[0m\u001b[0;34m)\u001b[0m\u001b[0;34m\u001b[0m\u001b[0;34m\u001b[0m\u001b[0m\n\u001b[0;32m-> 1051\u001b[0;31m             \u001b[0;32mraise\u001b[0m \u001b[0mself\u001b[0m\u001b[0;34m.\u001b[0m\u001b[0m_make_status_error_from_response\u001b[0m\u001b[0;34m(\u001b[0m\u001b[0merr\u001b[0m\u001b[0;34m.\u001b[0m\u001b[0mresponse\u001b[0m\u001b[0;34m)\u001b[0m \u001b[0;32mfrom\u001b[0m \u001b[0;32mNone\u001b[0m\u001b[0;34m\u001b[0m\u001b[0;34m\u001b[0m\u001b[0m\n\u001b[0m\u001b[1;32m   1052\u001b[0m \u001b[0;34m\u001b[0m\u001b[0m\n\u001b[1;32m   1053\u001b[0m         return self._process_response(\n",
            "\u001b[0;31mNotFoundError\u001b[0m: Error code: 404 - {'error': {'message': 'The model `01-mini` does not exist or you do not have access to it.', 'type': 'invalid_request_error', 'param': None, 'code': 'model_not_found'}}"
          ]
        }
      ]
    },
    {
      "cell_type": "code",
      "source": [
        "print(completion.choices[0].message.content)"
      ],
      "metadata": {
        "colab": {
          "base_uri": "https://localhost:8080/"
        },
        "id": "jG2bTLqFpQql",
        "outputId": "cf8f9ae4-1e4c-4cca-c842-110a8703d32e"
      },
      "execution_count": null,
      "outputs": [
        {
          "output_type": "stream",
          "name": "stdout",
          "text": [
            "```html\n",
            "<!DOCTYPE html>\n",
            "<html lang=\"en\">\n",
            "<head>\n",
            "    <meta charset=\"UTF-8\">\n",
            "    <title>Doctor's Report</title>\n",
            "    <style>\n",
            "        body {\n",
            "            font-family: Arial, sans-serif;\n",
            "            margin: 20px;\n",
            "        }\n",
            "        .section {\n",
            "            margin-bottom: 20px;\n",
            "        }\n",
            "        .section h2 {\n",
            "            border-bottom: 1px solid #000;\n",
            "            padding-bottom: 5px;\n",
            "            margin-bottom: 10px;\n",
            "        }\n",
            "        .field {\n",
            "            margin: 5px 0;\n",
            "        }\n",
            "        .label {\n",
            "            font-weight: bold;\n",
            "        }\n",
            "    </style>\n",
            "</head>\n",
            "<body>\n",
            "    <header class=\"section\">\n",
            "        <h2>Patient Information</h2>\n",
            "        <div class=\"field\"><span class=\"label\">Name:</span> UCERA YOSARA NUNEZ</div>\n",
            "        <div class=\"field\"><span class=\"label\">City:</span> Divinitka</div>\n",
            "    </header>\n",
            "    \n",
            "    <section class=\"section\">\n",
            "        <h2>Accident Details</h2>\n",
            "        <div class=\"field\">They were going straight when another car cut them off from the opposite direction.</div>\n",
            "    </section>\n",
            "\n",
            "    <section class=\"section\">\n",
            "        <h2>Injuries</h2>\n",
            "        <div class=\"field\"><span class=\"label\">Airbag deployed causing bruises: </span> Chest, Left Chest, Left Breast, Left Thigh (40 cm), Outer Left Leg (30 cm), Left Shin, Left Leg, Cut over inner top of the knee and inner legs.</div>\n",
            "        <div class=\"field\"><span class=\"label\">Chest Pain:</span> Yes</div>\n",
            "        <div class=\"field\"><span class=\"label\">Chest Pain Frequency:</span> Always, worsens when laying on the side</div>\n",
            "        <div class=\"field\"><span class=\"label\">Chest Pain Rating:</span> 3/10</div>\n",
            "        <div class=\"field\"><span class=\"label\">Pain Description:</span> Tender and sore on touch</div>\n",
            "        <div class=\"field\"><span class=\"label\">Soreness:</span> Under, mid, and constant</div>\n",
            "        \n",
            "        <div class=\"field\"><span class=\"label\">Shoulder and Neck Pain:</span> Both sides, worse on the left</div>\n",
            "        <div class=\"field\"><span class=\"label\">Shoulder Pain Rating:</span> 3/10</div>\n",
            "        <div class=\"field\"><span class=\"label\">Pain Description:</span> Sudden shooting pain, worse with movement</div>\n",
            "        \n",
            "        <div class=\"field\"><span class=\"label\">Knee Pain:</span> Both knees, worse on the right</div>\n",
            "        <div class=\"field\"><span class=\"label\">Knee Pain Rating:</span> 4/10</div>\n",
            "        <div class=\"field\"><span class=\"label\">Pain Description:</span> Achy, worsens with standing and walking</div>\n",
            "    </section>\n",
            "\n",
            "    <section class=\"section\">\n",
            "        <h2>Previous Medical History</h2>\n",
            "        <div class=\"field\"><span class=\"label\">Hospital:</span> Kaiser Permanente, Bull and Hills</div>\n",
            "        <div class=\"field\"><span class=\"label\">Tests:</span> X-ray, CT Scan</div>\n",
            "        <div class=\"field\"><span class=\"label\">Medication:</span> Tylenol</div>\n",
            "        <div class=\"field\"><span class=\"label\">Therapy:</span> Yes, recommended</div>\n",
            "        \n",
            "        <div class=\"field\"><span class=\"label\">Other conditions:</span> Patellar tendonitis since 2018 (Right knee)</div>\n",
            "        <div class=\"field\"><span class=\"label\">Medications:</span> Hydroxychloroquine, Acyclovir</div>\n",
            "        <div class=\"field\"><span class=\"label\">Past Accidents:</span> Two previous accidents, the second one worse with whiplash and concussion (November last year), fully recovered</div>\n",
            "    </section>\n",
            "\n",
            "    <section class=\"section\">\n",
            "        <h2>Pain Assessment</h2>\n",
            "        <div class=\"field\"><span class=\"label\">Neck Flexion:</span> 40 degrees, shooting pain to left chest and shoulder</div>\n",
            "        <div class=\"field\"><span class=\"label\">Neck Extension:</span> 40 degrees</div>\n",
            "        <div class=\"field\"><span class=\"label\">Lateral Bending:</span> 30 degrees left, 30 degrees right, severe pain on the left</div>\n",
            "        <div class=\"field\"><span class=\"label\">Rotation:</span> 60 degrees left, 60 degrees right</div>\n",
            "\n",
            "        <div class=\"field\"><span class=\"label\">Shoulder Movement:</span>\n",
            "            <ul>\n",
            "                <li>Left Shoulder: 180 degrees, pain</li>\n",
            "                <li>Right Shoulder: No pain</li>\n",
            "                <li>Internal Rotation: 90 degrees, pain on the left</li>\n",
            "                <li>External Rotation: No pain</li>\n",
            "                <li>Abduction: 170 degrees, pain and pulling</li>\n",
            "            </ul>\n",
            "        </div>\n",
            "        \n",
            "        <div class=\"field\"><span class=\"label\">Low Back Movement:</span>\n",
            "            <ul>\n",
            "                <li>Forward: 40 degrees, no pain</li>\n",
            "                <li>Backward: 30 degrees, no pain</li>\n",
            "                <li>Full Range of Motion: No pain</li>\n",
            "            </ul>\n",
            "        </div>\n",
            "        \n",
            "        <div class=\"field\"><span class=\"label\">Knee Movement:</span>\n",
            "            <ul>\n",
            "                <li>Flexion (left): Stiffness</li>\n",
            "                <li>Extension (left): No pain</li>\n",
            "                <li>Right Knee: 130 degrees flexibility, soreness, 5 degrees hyperextension, tenderness, and minor swelling</li>\n",
            "                <li>Bruising: Inner thigh, tenderness, and spasm over quadriceps muscle</li>\n",
            "            </ul>\n",
            "        </div>\n",
            "    </section>\n",
            "</body>\n",
            "</html>\n",
            "```\n"
          ]
        }
      ]
    },
    {
      "cell_type": "code",
      "source": [],
      "metadata": {
        "id": "1T_PlRblpUvx"
      },
      "execution_count": null,
      "outputs": []
    }
  ]
}